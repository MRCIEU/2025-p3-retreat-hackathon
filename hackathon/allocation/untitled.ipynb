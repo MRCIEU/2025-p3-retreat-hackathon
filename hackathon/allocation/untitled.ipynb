{
 "cells": [
  {
   "cell_type": "code",
   "execution_count": 1,
   "metadata": {},
   "outputs": [],
   "source": [
    "%load_ext autoreload\n",
    "%autoreload 2\n",
    "\n",
    "from pathlib import Path\n",
    "from pprint import pprint\n",
    "import random\n",
    "\n",
    "import yaml\n",
    "from pydash import py_"
   ]
  },
  {
   "cell_type": "code",
   "execution_count": 8,
   "metadata": {},
   "outputs": [
    {
     "name": "stdout",
     "output_type": "stream",
     "text": [
      "{'attendee_group1': ['Helena Urquijo',\n",
      "                     'Andrew Elmore',\n",
      "                     'Yueying Li',\n",
      "                     'Josine Min',\n",
      "                     'Haotian Tang',\n",
      "                     'Matt Boyton',\n",
      "                     'Zhaozhen Xu',\n",
      "                     'Si Fang',\n",
      "                     'Xuyutian Wang',\n",
      "                     'Winfred Gatua',\n",
      "                     'Phoebe Dickson',\n",
      "                     'Amanda Chong',\n",
      "                     'Andrea Santangelo',\n",
      "                     'Olalekan Awoniran',\n",
      "                     'Yi Liu'],\n",
      " 'attendee_group2': ['Lavinia Paternoster',\n",
      "                     'Louise Millard',\n",
      "                     'Venexia Walker',\n",
      "                     'Tom Gaunt'],\n",
      " 'params': {'group_size': 4, 'num_groups': 5, 'seed': 42},\n",
      " 'projects': ['a', 'b', 'c', 'd']}\n"
     ]
    }
   ],
   "source": [
    "path_to_settings = Path(\".\") / \"settings.yml\"\n",
    "assert path_to_settings.exists(), f\"Settings file not found at {path_to_settings}\"\n",
    "\n",
    "with open(path_to_settings, \"r\") as f:\n",
    "    settings = yaml.safe_load(f)\n",
    "pprint(settings)"
   ]
  },
  {
   "cell_type": "code",
   "execution_count": 5,
   "metadata": {},
   "outputs": [
    {
     "data": {
      "text/plain": [
       "[3, 2, 4, 1]"
      ]
     },
     "execution_count": 5,
     "metadata": {},
     "output_type": "execute_result"
    }
   ],
   "source": [
    "random.seed(settings[\"params\"][\"seed\"])\n",
    "raw_list = [1, 2, 3, 4]\n",
    "py_.shuffle(raw_list)"
   ]
  },
  {
   "cell_type": "code",
   "execution_count": null,
   "metadata": {},
   "outputs": [
    {
     "name": "stdout",
     "output_type": "stream",
     "text": [
      "3\n"
     ]
    }
   ],
   "source": [
    "# determin group size from number of groups and length of attendees\n",
    "attendees = settings[\"attendee_group1\"]\n",
    "num_groups = settings[\"params\"][\"num_groups\"]\n",
    "group_size = len(attendees) // num_groups\n",
    "print(group_size)"
   ]
  },
  {
   "cell_type": "code",
   "execution_count": 17,
   "metadata": {},
   "outputs": [
    {
     "name": "stdout",
     "output_type": "stream",
     "text": [
      "5\n"
     ]
    }
   ],
   "source": [
    "group1_raw = settings[\"attendee_group1\"]\n",
    "group1_size = len(group1_raw) // settings[\"params\"][\"num_groups\"]\n",
    "group1_chunked = py_.chain(group1_raw) \\\n",
    "    .shuffle().chunk(group1_size) \\\n",
    "        .value()\n",
    "print(len(group1_chunked))"
   ]
  },
  {
   "cell_type": "code",
   "execution_count": 20,
   "metadata": {},
   "outputs": [
    {
     "data": {
      "text/plain": [
       "[[1, 2], [3, 4], [5]]"
      ]
     },
     "execution_count": 20,
     "metadata": {},
     "output_type": "execute_result"
    }
   ],
   "source": [
    "py_.chunk([1, 2, 3, 4, 5], 2)"
   ]
  },
  {
   "cell_type": "code",
   "execution_count": 33,
   "metadata": {},
   "outputs": [
    {
     "data": {
      "text/plain": [
       "[['David', 'Charlie', 'Alice'], ['Frank', 'Hannah', 'Eve'], ['Grace', 'Bob']]"
      ]
     },
     "execution_count": 33,
     "metadata": {},
     "output_type": "execute_result"
    }
   ],
   "source": [
    "def allocate_people_to_groups(people, num_groups):\n",
    "    # Shuffle the list of people to ensure random distribution\n",
    "    random.shuffle(people)\n",
    "    \n",
    "    # Create empty groups\n",
    "    groups = [[] for _ in range(num_groups)]\n",
    "    \n",
    "    # Distribute people into groups\n",
    "    for i, person in enumerate(people):\n",
    "        groups[i % num_groups].append(person)\n",
    "    \n",
    "    return groups\n",
    "\n",
    "people = [\"Alice\", \"Bob\", \"Charlie\", \"David\", \"Eve\", \"Frank\", \"Grace\", \"Hannah\"]\n",
    "num_groups = 3\n",
    "allocate_people_to_groups(people, num_groups)"
   ]
  },
  {
   "cell_type": "code",
   "execution_count": 41,
   "metadata": {},
   "outputs": [],
   "source": [
    "groups2_raw = settings[\"attendee_group2\"]\n",
    "group2 = allocate_people_to_groups(groups2_raw, settings[\"params\"][\"num_groups\"])"
   ]
  },
  {
   "cell_type": "code",
   "execution_count": 45,
   "metadata": {},
   "outputs": [],
   "source": [
    "projects = py_.shuffle(settings[\"projects\"])[:group_size]"
   ]
  },
  {
   "cell_type": "code",
   "execution_count": 46,
   "metadata": {},
   "outputs": [
    {
     "data": {
      "text/plain": [
       "[{'team': ['Phoebe Dickson',\n",
       "   'Josine Min',\n",
       "   'Amanda Chong',\n",
       "   'Louise Millard',\n",
       "   'Tom Gaunt',\n",
       "   'Venexia Walker'],\n",
       "  'proj': 'a'},\n",
       " {'team': ['Helena Urquijo',\n",
       "   'Andrea Santangelo',\n",
       "   'Yi Liu',\n",
       "   'Lavinia Paternoster',\n",
       "   'Venexia Walker',\n",
       "   'Lavinia Paternoster'],\n",
       "  'proj': 'd'},\n",
       " {'team': ['Xuyutian Wang',\n",
       "   'Winfred Gatua',\n",
       "   'Yueying Li',\n",
       "   'Louise Millard',\n",
       "   'Tom Gaunt'],\n",
       "  'proj': 'c'}]"
      ]
     },
     "execution_count": 46,
     "metadata": {},
     "output_type": "execute_result"
    }
   ],
   "source": [
    "alloc = []\n",
    "for _ in zip(group1_chunked, group2, projects):\n",
    "    team = py_.flatten(_[:2])\n",
    "    proj = _[2]\n",
    "    item = {\n",
    "        \"team\": team,\n",
    "        \"proj\": proj,\n",
    "    }\n",
    "    alloc.append(item)\n",
    "alloc"
   ]
  }
 ],
 "metadata": {
  "kernelspec": {
   "display_name": "Python 3",
   "language": "python",
   "name": "python3"
  },
  "language_info": {
   "codemirror_mode": {
    "name": "ipython",
    "version": 3
   },
   "file_extension": ".py",
   "mimetype": "text/x-python",
   "name": "python",
   "nbconvert_exporter": "python",
   "pygments_lexer": "ipython3",
   "version": "3.12.8"
  }
 },
 "nbformat": 4,
 "nbformat_minor": 2
}
